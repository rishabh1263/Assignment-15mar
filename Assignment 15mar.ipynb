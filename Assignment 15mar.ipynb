{
 "cells": [
  {
   "cell_type": "markdown",
   "id": "6a7769df",
   "metadata": {},
   "source": [
    "Q1:\n",
    "What is AI in simple words?\n",
    "Image result for what is ai\n",
    "Artificial intelligence is the simulation of human intelligence processes by machines, especially computer systems. Specific applications of AI include expert systems, natural language processing, speech recognition and machine vision.\n",
    "How do you define ML?\n",
    "Image result for what is ml\n",
    "Machine learning (ML) is a type of artificial intelligence (AI) that allows software applications to become more accurate at predicting outcomes without being explicitly programmed to do so. Machine learning algorithms use historical data as input to predict new output values.\n",
    "What is deep learning in simple words?\n",
    "Deep learning is a method in artificial intelligence (AI) that teaches computers to process data in a way that is inspired by the human brain. Deep learning models can recognize complex patterns in pictures, text, sounds, and other data to produce accurate insights and predictions."
   ]
  },
  {
   "cell_type": "markdown",
   "id": "74946374",
   "metadata": {},
   "source": [
    "Q2:\n",
    "Supervised learning, also known as supervised machine learning, is a subcategory of machine learning and artificial intelligence. It is defined by its use of labeled datasets to train algorithms that to classify data or predict outcomes accurately. As input data is fed into the model, it adjusts its weights until the model has been fitted appropriately, which occurs as part of the cross validation process. Supervised learning helps organizations solve for a variety of real-world problems at scale, such as classifying spam in a separate folder from your inbox.\n"
   ]
  },
  {
   "cell_type": "markdown",
   "id": "3e819d3e",
   "metadata": {},
   "source": [
    "Q3:\n",
    "    What is unsupervised learning? Unsupervised learning, also known as unsupervised machine learning, uses machine learning algorithms to analyze and cluster unlabeled datasets. These algorithms discover hidden patterns or data groupings without the need for human intervention.\n",
    "    Example: Suppose the unsupervised learning algorithm is given an input dataset containing images of different types of cats and dogs."
   ]
  },
  {
   "cell_type": "markdown",
   "id": "11d9db6e",
   "metadata": {},
   "source": [
    "Q4:\n",
    "What is the difference between AI ML DL and DS?\n",
    "Artificial Intelligence uses logic and decision trees. Machine Learning uses statistical models. Data Science deals with structured and unstructured data. Chatbots, and Voice assistants are popular applications of AI."
   ]
  },
  {
   "cell_type": "markdown",
   "id": "f17532f3",
   "metadata": {},
   "source": [
    "Q5:\n",
    "    The main difference between supervised and unsupervised learning: Labeled data. The main distinction between the two approaches is the use of labeled datasets. To put it simply, supervised learning uses labeled input and output data, while an unsupervised learning algorithm does noT\n",
    "    The main difference between these types is the level of availability of ground truth data, which is prior knowledge of what the output of the model should be for a given input"
   ]
  },
  {
   "cell_type": "markdown",
   "id": "2c532391",
   "metadata": {},
   "source": [
    "Q6:\n",
    "Training data is the set of the data on which the actual training takes place. Validation split helps to improve the model performance by fine-tuning the model after each epoch. The test set informs us about the final accuracy of the model after completing the training phase.\n",
    "    "
   ]
  },
  {
   "cell_type": "markdown",
   "id": "dcd4d3a3",
   "metadata": {},
   "source": [
    "q7:\n",
    "Anomaly detection techniques of unsupervised nature assume that normal data points occur considerably more frequently than anomalous data points. This assumption is used to classify data points that occur less frequently as anomalies. Unsupervised techniques assign each data point a score instead of a label."
   ]
  },
  {
   "cell_type": "markdown",
   "id": "4827a472",
   "metadata": {},
   "source": [
    "Q8:\n",
    "Anomaly detection techniques of unsupervised nature assume that normal data points occur considerably more frequently than anomalous data points. This assumption is used to classify data points that occur less frequently as anomalies. Unsupervised techniques assign each data point a score instead of a label."
   ]
  },
  {
   "cell_type": "code",
   "execution_count": null,
   "id": "8e3b39d8",
   "metadata": {},
   "outputs": [],
   "source": []
  }
 ],
 "metadata": {
  "kernelspec": {
   "display_name": "Python 3 (ipykernel)",
   "language": "python",
   "name": "python3"
  },
  "language_info": {
   "codemirror_mode": {
    "name": "ipython",
    "version": 3
   },
   "file_extension": ".py",
   "mimetype": "text/x-python",
   "name": "python",
   "nbconvert_exporter": "python",
   "pygments_lexer": "ipython3",
   "version": "3.9.13"
  }
 },
 "nbformat": 4,
 "nbformat_minor": 5
}
